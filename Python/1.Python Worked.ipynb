{
 "cells": [
  {
   "cell_type": "markdown",
   "id": "e4d1a026",
   "metadata": {},
   "source": [
    "# Variables in Python\n",
    "- Variables acts as a container to store data in memory space.\n",
    "- Variables are pointer towards object in python\n",
    "- Variables can start with letters or underscore.\n",
    "- You cannot include special characters while creating a variable.\n",
    "\n",
    "**Important points to remeber while creating a variable**\n",
    "1. Python is case sensitive\n",
    "2. If variable name involves more than 2 words, join those words with underscore.\n",
    "3. Give meaningful name to variables"
   ]
  },
  {
   "cell_type": "code",
   "execution_count": 4,
   "id": "46ee39cf",
   "metadata": {
    "ExecuteTime": {
     "end_time": "2023-07-27T07:54:41.177565Z",
     "start_time": "2023-07-27T07:54:41.167703Z"
    }
   },
   "outputs": [
    {
     "data": {
      "text/plain": [
       "12"
      ]
     },
     "execution_count": 4,
     "metadata": {},
     "output_type": "execute_result"
    }
   ],
   "source": [
    "a = 12\n",
    "a"
   ]
  },
  {
   "cell_type": "code",
   "execution_count": 7,
   "id": "664c2728",
   "metadata": {
    "ExecuteTime": {
     "end_time": "2023-07-25T10:56:03.296293Z",
     "start_time": "2023-07-25T10:56:03.271416Z"
    }
   },
   "outputs": [],
   "source": [
    "#Single line comment"
   ]
  },
  {
   "cell_type": "code",
   "execution_count": 3,
   "id": "91c3d50c",
   "metadata": {
    "ExecuteTime": {
     "end_time": "2023-07-27T08:03:19.678711Z",
     "start_time": "2023-07-27T08:03:19.663492Z"
    }
   },
   "outputs": [
    {
     "data": {
      "text/plain": [
       "30"
      ]
     },
     "execution_count": 3,
     "metadata": {},
     "output_type": "execute_result"
    }
   ],
   "source": [
    "age = 30 #age variable contains 60 value.\n",
    "age"
   ]
  },
  {
   "cell_type": "code",
   "execution_count": 5,
   "id": "159d6f1b",
   "metadata": {
    "ExecuteTime": {
     "end_time": "2023-07-27T08:07:35.779204Z",
     "start_time": "2023-07-27T08:07:35.770270Z"
    }
   },
   "outputs": [
    {
     "data": {
      "text/plain": [
       "'This is first line This is second line \\nThis is third line'"
      ]
     },
     "execution_count": 5,
     "metadata": {},
     "output_type": "execute_result"
    }
   ],
   "source": [
    "#Multi-line comment\n",
    "'''This is first line This is second line \n",
    "This is third line'''"
   ]
  },
  {
   "cell_type": "code",
   "execution_count": 6,
   "id": "d00a5055",
   "metadata": {
    "ExecuteTime": {
     "end_time": "2023-07-27T08:08:19.763731Z",
     "start_time": "2023-07-27T08:08:19.757596Z"
    }
   },
   "outputs": [
    {
     "data": {
      "text/plain": [
       "30"
      ]
     },
     "execution_count": 6,
     "metadata": {},
     "output_type": "execute_result"
    }
   ],
   "source": [
    "age"
   ]
  },
  {
   "cell_type": "markdown",
   "id": "72a732b2",
   "metadata": {},
   "source": [
    "# Data types in python\n",
    "1. Integer\n",
    "2. Float\n",
    "3. String\n",
    "4. Boolean"
   ]
  },
  {
   "cell_type": "code",
   "execution_count": 7,
   "id": "85545b8e",
   "metadata": {
    "ExecuteTime": {
     "end_time": "2023-07-27T08:46:36.215493Z",
     "start_time": "2023-07-27T08:46:36.197745Z"
    }
   },
   "outputs": [],
   "source": [
    "integer = 10\n",
    "continous = 45.2\n",
    "text = \"Python\"\n",
    "boolean = True"
   ]
  },
  {
   "cell_type": "code",
   "execution_count": 16,
   "id": "05496669-0926-442e-8d80-a793c9782638",
   "metadata": {},
   "outputs": [
    {
     "data": {
      "text/plain": [
       "True"
      ]
     },
     "execution_count": 16,
     "metadata": {},
     "output_type": "execute_result"
    }
   ],
   "source": [
    "#if I want to run all values to show all ans need to use print funtion \n",
    "integer\n",
    "continous\n",
    "text\n",
    "boolean"
   ]
  },
  {
   "cell_type": "code",
   "execution_count": 8,
   "id": "bdc54922",
   "metadata": {
    "ExecuteTime": {
     "end_time": "2023-07-27T08:47:05.218808Z",
     "start_time": "2023-07-27T08:47:05.199744Z"
    }
   },
   "outputs": [
    {
     "name": "stdout",
     "output_type": "stream",
     "text": [
      "10\n",
      "45.2\n",
      "Python\n",
      "True\n"
     ]
    }
   ],
   "source": [
    "print(integer)\n",
    "print(continous)\n",
    "print(text)\n",
    "print(boolean)"
   ]
  },
  {
   "cell_type": "markdown",
   "id": "48220fa4",
   "metadata": {},
   "source": [
    "# Data Structures\n",
    "1. Lists\n",
    "2. Tuple\n",
    "3. Dictionary\n",
    "4. Sets"
   ]
  },
  {
   "cell_type": "markdown",
   "id": "78753086",
   "metadata": {},
   "source": [
    "**Lists**\n",
    "\n",
    "- Lists are the built in data structures in python.\n",
    "- Lists are heterogenous data structure.\n",
    "- Lists are mutable."
   ]
  },
  {
   "cell_type": "code",
   "execution_count": null,
   "id": "8417c924",
   "metadata": {
    "ExecuteTime": {
     "end_time": "2023-07-25T10:56:03.515450Z",
     "start_time": "2023-07-25T10:56:03.503871Z"
    }
   },
   "outputs": [],
   "source": [
    "#Creating lists"
   ]
  },
  {
   "cell_type": "code",
   "execution_count": 17,
   "id": "f1570c8d",
   "metadata": {
    "ExecuteTime": {
     "end_time": "2023-07-31T07:43:34.905952Z",
     "start_time": "2023-07-31T07:43:34.891501Z"
    }
   },
   "outputs": [
    {
     "data": {
      "text/plain": [
       "list"
      ]
     },
     "execution_count": 17,
     "metadata": {},
     "output_type": "execute_result"
    }
   ],
   "source": [
    "lst = []  #type funtion to check the data structure \"=\" is an assignment opetator\n",
    "type(lst)"
   ]
  },
  {
   "cell_type": "code",
   "execution_count": 18,
   "id": "3f4790ef",
   "metadata": {
    "ExecuteTime": {
     "end_time": "2023-07-31T07:44:11.905618Z",
     "start_time": "2023-07-31T07:44:11.885599Z"
    }
   },
   "outputs": [],
   "source": [
    "lst = [10,10.2,True,'Python']"
   ]
  },
  {
   "cell_type": "code",
   "execution_count": 19,
   "id": "8884c02e",
   "metadata": {
    "ExecuteTime": {
     "end_time": "2023-07-31T07:45:45.367210Z",
     "start_time": "2023-07-31T07:45:45.348355Z"
    }
   },
   "outputs": [
    {
     "data": {
      "text/plain": [
       "[10, 10.2, True, 'Python']"
      ]
     },
     "execution_count": 19,
     "metadata": {},
     "output_type": "execute_result"
    }
   ],
   "source": [
    "lst"
   ]
  },
  {
   "cell_type": "code",
   "execution_count": null,
   "id": "2c6bba18",
   "metadata": {
    "ExecuteTime": {
     "end_time": "2023-07-25T10:56:03.526432Z",
     "start_time": "2023-07-25T10:56:03.519231Z"
    }
   },
   "outputs": [],
   "source": [
    "#append  "
   ]
  },
  {
   "cell_type": "code",
   "execution_count": 35,
   "id": "19d6c98e",
   "metadata": {
    "ExecuteTime": {
     "end_time": "2023-07-31T07:46:42.563786Z",
     "start_time": "2023-07-31T07:46:42.547692Z"
    }
   },
   "outputs": [],
   "source": [
    "lst.append(23) #append means add, anything will be added in the end of the list"
   ]
  },
  {
   "cell_type": "code",
   "execution_count": 34,
   "id": "bbde84dd",
   "metadata": {
    "ExecuteTime": {
     "end_time": "2023-07-31T07:46:47.779321Z",
     "start_time": "2023-07-31T07:46:47.761935Z"
    }
   },
   "outputs": [
    {
     "data": {
      "text/plain": [
       "[10, True, 'Python', False, False, 23, 23]"
      ]
     },
     "execution_count": 34,
     "metadata": {},
     "output_type": "execute_result"
    }
   ],
   "source": [
    "lst"
   ]
  },
  {
   "cell_type": "code",
   "execution_count": null,
   "id": "e5a6f491",
   "metadata": {
    "ExecuteTime": {
     "end_time": "2023-07-25T10:56:03.609564Z",
     "start_time": "2023-07-25T10:56:03.595848Z"
    }
   },
   "outputs": [],
   "source": [
    "#remove"
   ]
  },
  {
   "cell_type": "code",
   "execution_count": 40,
   "id": "d079c056",
   "metadata": {
    "ExecuteTime": {
     "end_time": "2023-07-31T07:56:52.471097Z",
     "start_time": "2023-07-31T07:56:52.465526Z"
    }
   },
   "outputs": [],
   "source": [
    "lst.remove(23)  # remove any value"
   ]
  },
  {
   "cell_type": "code",
   "execution_count": 42,
   "id": "2aac00d6",
   "metadata": {
    "ExecuteTime": {
     "end_time": "2023-07-31T07:56:56.827835Z",
     "start_time": "2023-07-31T07:56:56.810477Z"
    }
   },
   "outputs": [
    {
     "data": {
      "text/plain": [
       "[10, True, 'Python', False, 23]"
      ]
     },
     "execution_count": 42,
     "metadata": {},
     "output_type": "execute_result"
    }
   ],
   "source": [
    "lst"
   ]
  },
  {
   "cell_type": "code",
   "execution_count": 45,
   "id": "2158c92b-d851-4b7f-8a1a-1431a444589d",
   "metadata": {},
   "outputs": [
    {
     "data": {
      "text/plain": [
       "'Python'"
      ]
     },
     "execution_count": 45,
     "metadata": {},
     "output_type": "execute_result"
    }
   ],
   "source": [
    "lst[2]"
   ]
  },
  {
   "cell_type": "code",
   "execution_count": 44,
   "id": "75f5ff58-1498-4950-bf59-ddd54ade5361",
   "metadata": {},
   "outputs": [
    {
     "data": {
      "text/plain": [
       "[10, True, 'Python', False]"
      ]
     },
     "execution_count": 44,
     "metadata": {},
     "output_type": "execute_result"
    }
   ],
   "source": [
    "lst[0:4] #extract the specific value/s means to show that value. it will excluded last index value Here 23 is excluded as the index number for 23 is 4"
   ]
  },
  {
   "cell_type": "code",
   "execution_count": 46,
   "id": "1964102f-2258-4458-844a-cb1ee316cc6e",
   "metadata": {},
   "outputs": [
    {
     "data": {
      "text/plain": [
       "1"
      ]
     },
     "execution_count": 46,
     "metadata": {},
     "output_type": "execute_result"
    }
   ],
   "source": [
    "lst.count(True)  #count will show the how many time value is repeated"
   ]
  },
  {
   "cell_type": "code",
   "execution_count": 47,
   "id": "8c5a0e1b-64ed-405c-828e-f995addd9b50",
   "metadata": {},
   "outputs": [
    {
     "data": {
      "text/plain": [
       "5"
      ]
     },
     "execution_count": 47,
     "metadata": {},
     "output_type": "execute_result"
    }
   ],
   "source": [
    "len(lst)  #to find no of values stored in data structure **len** will work"
   ]
  },
  {
   "cell_type": "code",
   "execution_count": 63,
   "id": "cb9bc08a-adca-443a-b5dc-21d707699f0c",
   "metadata": {},
   "outputs": [
    {
     "data": {
      "text/plain": [
       "[11, 22, 22, 'Python', 14, 23]"
      ]
     },
     "execution_count": 63,
     "metadata": {},
     "output_type": "execute_result"
    }
   ],
   "source": [
    "lst"
   ]
  },
  {
   "cell_type": "code",
   "execution_count": 49,
   "id": "426b2548-0d13-411c-a6c6-3386fbedb978",
   "metadata": {},
   "outputs": [],
   "source": [
    "lst[3]= 14  #if want to replace the value need to use indexing"
   ]
  },
  {
   "cell_type": "code",
   "execution_count": 64,
   "id": "75c78592-c4c6-4274-a81f-a59f93816433",
   "metadata": {},
   "outputs": [
    {
     "data": {
      "text/plain": [
       "[11, 22, 22, 'Python', 14, 23]"
      ]
     },
     "execution_count": 64,
     "metadata": {},
     "output_type": "execute_result"
    }
   ],
   "source": [
    "lst"
   ]
  },
  {
   "cell_type": "code",
   "execution_count": 51,
   "id": "ac80e885-b5d7-4fdf-9f55-c7213fc1d569",
   "metadata": {},
   "outputs": [
    {
     "data": {
      "text/plain": [
       "2"
      ]
     },
     "execution_count": 51,
     "metadata": {},
     "output_type": "execute_result"
    }
   ],
   "source": [
    "lst.index('Python')    # to find the index number of any value can use Index"
   ]
  },
  {
   "cell_type": "markdown",
   "id": "5dbba063",
   "metadata": {},
   "source": [
    "**Tuple**\n",
    "\n",
    "- Tuples are ordered and heterogenous data structure.\n",
    "- Tuples are immutable."
   ]
  },
  {
   "cell_type": "code",
   "execution_count": null,
   "id": "174d82a7",
   "metadata": {
    "ExecuteTime": {
     "end_time": "2023-07-25T10:56:03.634576Z",
     "start_time": "2023-07-25T10:56:03.626902Z"
    }
   },
   "outputs": [],
   "source": [
    "#Create a tuple"
   ]
  },
  {
   "cell_type": "code",
   "execution_count": 56,
   "id": "52b0c1d4",
   "metadata": {
    "ExecuteTime": {
     "end_time": "2023-07-31T08:00:31.979661Z",
     "start_time": "2023-07-31T08:00:31.973396Z"
    }
   },
   "outputs": [
    {
     "data": {
      "text/plain": [
       "tuple"
      ]
     },
     "execution_count": 56,
     "metadata": {},
     "output_type": "execute_result"
    }
   ],
   "source": [
    "t = ()\n",
    "type(t)"
   ]
  },
  {
   "cell_type": "code",
   "execution_count": 57,
   "id": "9d6cc3a9",
   "metadata": {
    "ExecuteTime": {
     "end_time": "2023-07-31T08:00:54.886582Z",
     "start_time": "2023-07-31T08:00:54.876746Z"
    }
   },
   "outputs": [
    {
     "data": {
      "text/plain": [
       "(10, 5.5, True, 'python')"
      ]
     },
     "execution_count": 57,
     "metadata": {},
     "output_type": "execute_result"
    }
   ],
   "source": [
    "t = (10,5.5,True,'python')\n",
    "t"
   ]
  },
  {
   "cell_type": "code",
   "execution_count": 58,
   "id": "5b616bb0",
   "metadata": {
    "ExecuteTime": {
     "end_time": "2023-07-31T08:02:01.130314Z",
     "start_time": "2023-07-31T08:02:01.114422Z"
    }
   },
   "outputs": [
    {
     "data": {
      "text/plain": [
       "1"
      ]
     },
     "execution_count": 58,
     "metadata": {},
     "output_type": "execute_result"
    }
   ],
   "source": [
    "t.count(5.5)"
   ]
  },
  {
   "cell_type": "code",
   "execution_count": 59,
   "id": "5e96b44f",
   "metadata": {
    "ExecuteTime": {
     "end_time": "2023-07-31T08:02:11.888777Z",
     "start_time": "2023-07-31T08:02:11.868835Z"
    }
   },
   "outputs": [
    {
     "data": {
      "text/plain": [
       "2"
      ]
     },
     "execution_count": 59,
     "metadata": {},
     "output_type": "execute_result"
    }
   ],
   "source": [
    "t.index(True)"
   ]
  },
  {
   "cell_type": "code",
   "execution_count": null,
   "id": "e6436ef7",
   "metadata": {
    "ExecuteTime": {
     "end_time": "2023-07-25T10:56:03.643008Z",
     "start_time": "2023-07-25T10:56:03.637489Z"
    }
   },
   "outputs": [],
   "source": [
    "#Accessing elements from tuple"
   ]
  },
  {
   "cell_type": "code",
   "execution_count": null,
   "id": "a913ba15",
   "metadata": {
    "ExecuteTime": {
     "end_time": "2023-07-31T08:02:51.094947Z",
     "start_time": "2023-07-31T08:02:51.074954Z"
    }
   },
   "outputs": [],
   "source": [
    "t[3]"
   ]
  },
  {
   "cell_type": "markdown",
   "id": "fb3d7af9",
   "metadata": {},
   "source": [
    "**Dictionary**\n",
    "\n",
    "- Python dictionaries are ordered collection of items.\n",
    "- Dictionary is mutable data structure.\n",
    "- It has key and value pair."
   ]
  },
  {
   "cell_type": "code",
   "execution_count": null,
   "id": "5a7874ad",
   "metadata": {
    "ExecuteTime": {
     "end_time": "2023-07-25T10:56:03.658016Z",
     "start_time": "2023-07-25T10:56:03.645308Z"
    }
   },
   "outputs": [],
   "source": [
    "#Creating an empty dictionary"
   ]
  },
  {
   "cell_type": "code",
   "execution_count": 65,
   "id": "027b0252",
   "metadata": {
    "ExecuteTime": {
     "end_time": "2023-07-31T08:05:13.277819Z",
     "start_time": "2023-07-31T08:05:13.266306Z"
    }
   },
   "outputs": [
    {
     "data": {
      "text/plain": [
       "dict"
      ]
     },
     "execution_count": 65,
     "metadata": {},
     "output_type": "execute_result"
    }
   ],
   "source": [
    "dictionary = {}\n",
    "type(dictionary)"
   ]
  },
  {
   "cell_type": "code",
   "execution_count": null,
   "id": "de8f6bcf",
   "metadata": {
    "ExecuteTime": {
     "end_time": "2023-07-25T10:56:03.669256Z",
     "start_time": "2023-07-25T10:56:03.660414Z"
    }
   },
   "outputs": [],
   "source": [
    "#Adding elements in a dictionary"
   ]
  },
  {
   "cell_type": "code",
   "execution_count": 66,
   "id": "c62f2131",
   "metadata": {
    "ExecuteTime": {
     "end_time": "2023-07-31T08:07:02.158012Z",
     "start_time": "2023-07-31T08:07:02.146202Z"
    }
   },
   "outputs": [],
   "source": [
    "dictionary = {\n",
    "    'Name':'ABC',\n",
    "    'Age' : 25,\n",
    "    'Location' :'Pune',\n",
    "    'Course': 'DS'\n",
    "}"
   ]
  },
  {
   "cell_type": "code",
   "execution_count": 67,
   "id": "28932946",
   "metadata": {
    "ExecuteTime": {
     "end_time": "2023-07-31T08:07:22.937437Z",
     "start_time": "2023-07-31T08:07:22.926812Z"
    }
   },
   "outputs": [
    {
     "data": {
      "text/plain": [
       "{'Name': 'ABC', 'Age': 25, 'Location': 'Pune', 'Course': 'DS'}"
      ]
     },
     "execution_count": 67,
     "metadata": {},
     "output_type": "execute_result"
    }
   ],
   "source": [
    "dictionary"
   ]
  },
  {
   "cell_type": "code",
   "execution_count": 68,
   "id": "093b715b",
   "metadata": {
    "ExecuteTime": {
     "end_time": "2023-07-31T08:12:20.335272Z",
     "start_time": "2023-07-31T08:12:20.329362Z"
    }
   },
   "outputs": [],
   "source": [
    "#Adding values in dictionary(update)\n",
    "dictionary.update({'Date':2023})"
   ]
  },
  {
   "cell_type": "code",
   "execution_count": 69,
   "id": "11a1265d",
   "metadata": {
    "ExecuteTime": {
     "end_time": "2023-07-31T08:12:27.404602Z",
     "start_time": "2023-07-31T08:12:27.393764Z"
    }
   },
   "outputs": [
    {
     "data": {
      "text/plain": [
       "{'Name': 'ABC', 'Age': 25, 'Location': 'Pune', 'Course': 'DS', 'Date': 2023}"
      ]
     },
     "execution_count": 69,
     "metadata": {},
     "output_type": "execute_result"
    }
   ],
   "source": [
    "dictionary"
   ]
  },
  {
   "cell_type": "code",
   "execution_count": 70,
   "id": "d3f5e395",
   "metadata": {
    "ExecuteTime": {
     "end_time": "2023-07-31T08:13:22.780414Z",
     "start_time": "2023-07-31T08:13:22.764383Z"
    }
   },
   "outputs": [],
   "source": [
    "dictionary.update({'Subject' : 'ML','Month':'July'})   #to add values  use update"
   ]
  },
  {
   "cell_type": "code",
   "execution_count": 71,
   "id": "bb87bfcd",
   "metadata": {
    "ExecuteTime": {
     "end_time": "2023-07-31T08:13:34.797562Z",
     "start_time": "2023-07-31T08:13:34.780506Z"
    }
   },
   "outputs": [
    {
     "data": {
      "text/plain": [
       "{'Name': 'ABC',\n",
       " 'Age': 25,\n",
       " 'Location': 'Pune',\n",
       " 'Course': 'DS',\n",
       " 'Date': 2023,\n",
       " 'Subject': 'ML',\n",
       " 'Month': 'July'}"
      ]
     },
     "execution_count": 71,
     "metadata": {},
     "output_type": "execute_result"
    }
   ],
   "source": [
    "dictionary"
   ]
  },
  {
   "cell_type": "code",
   "execution_count": 74,
   "id": "116a2fd3",
   "metadata": {
    "ExecuteTime": {
     "end_time": "2023-07-31T08:16:52.765693Z",
     "start_time": "2023-07-31T08:16:52.749126Z"
    }
   },
   "outputs": [
    {
     "data": {
      "text/plain": [
       "2023"
      ]
     },
     "execution_count": 74,
     "metadata": {},
     "output_type": "execute_result"
    }
   ],
   "source": [
    "dictionary.pop('Date')   # to remove values from dict use pop and just give key name "
   ]
  },
  {
   "cell_type": "code",
   "execution_count": 75,
   "id": "911dd6c1",
   "metadata": {
    "ExecuteTime": {
     "end_time": "2023-07-31T08:16:59.198230Z",
     "start_time": "2023-07-31T08:16:59.177721Z"
    }
   },
   "outputs": [
    {
     "data": {
      "text/plain": [
       "{'Name': 'ABC',\n",
       " 'Age': 25,\n",
       " 'Location': 'Pune',\n",
       " 'Course': 'DS',\n",
       " 'Subject': 'ML',\n",
       " 'Month': 'July'}"
      ]
     },
     "execution_count": 75,
     "metadata": {},
     "output_type": "execute_result"
    }
   ],
   "source": [
    "dictionary"
   ]
  },
  {
   "cell_type": "markdown",
   "id": "da0825b4",
   "metadata": {},
   "source": [
    "**Set**\n",
    "\n",
    "- Set is a collection which is unordered,unindexed.\n",
    "- Set is immutable.\n",
    "- Sets are unordered, so you cannot be sure in which order the items will appear.\n",
    "- Sets do not allow duplicate values.\n",
    "- Once a set is created, you cannot change its items, but you can remove items and add new items.\n",
    "- As sets are unordered, they do not support indexing and slicing operations."
   ]
  },
  {
   "cell_type": "code",
   "execution_count": null,
   "id": "f77bace1",
   "metadata": {
    "ExecuteTime": {
     "end_time": "2023-07-31T08:23:12.787603Z",
     "start_time": "2023-07-31T08:23:12.766370Z"
    }
   },
   "outputs": [],
   "source": [
    "#creating an empty set\n",
    "s = {10,20,True,'Hello'}\n",
    "type(s)"
   ]
  },
  {
   "cell_type": "code",
   "execution_count": null,
   "id": "d5c148cf",
   "metadata": {
    "ExecuteTime": {
     "end_time": "2023-07-31T08:23:42.345588Z",
     "start_time": "2023-07-31T08:23:42.337896Z"
    }
   },
   "outputs": [],
   "source": [
    "#Does not allow duplicate items\n",
    "s1 = {10,10,10,20,30,40,50}"
   ]
  },
  {
   "cell_type": "code",
   "execution_count": null,
   "id": "7295fc4f",
   "metadata": {
    "ExecuteTime": {
     "end_time": "2023-07-31T08:23:48.027732Z",
     "start_time": "2023-07-31T08:23:48.013075Z"
    }
   },
   "outputs": [],
   "source": [
    "s1"
   ]
  },
  {
   "cell_type": "code",
   "execution_count": null,
   "id": "037e0a3f",
   "metadata": {
    "ExecuteTime": {
     "end_time": "2023-07-25T10:56:04.032932Z",
     "start_time": "2023-07-25T10:56:04.032932Z"
    }
   },
   "outputs": [],
   "source": [
    "#Does not support indexing"
   ]
  },
  {
   "cell_type": "code",
   "execution_count": null,
   "id": "d68bb6d0",
   "metadata": {
    "ExecuteTime": {
     "end_time": "2023-07-31T08:24:22.726519Z",
     "start_time": "2023-07-31T08:24:22.705393Z"
    }
   },
   "outputs": [],
   "source": [
    "s1[4]"
   ]
  },
  {
   "cell_type": "code",
   "execution_count": null,
   "id": "e982d040",
   "metadata": {
    "ExecuteTime": {
     "end_time": "2023-07-31T08:24:53.742107Z",
     "start_time": "2023-07-31T08:24:53.730930Z"
    }
   },
   "outputs": [],
   "source": [
    "#Add   to add any value in set use add\n",
    "s1.add(60)"
   ]
  },
  {
   "cell_type": "code",
   "execution_count": null,
   "id": "8c391c81",
   "metadata": {
    "ExecuteTime": {
     "end_time": "2023-07-31T08:24:59.016523Z",
     "start_time": "2023-07-31T08:24:59.000408Z"
    }
   },
   "outputs": [],
   "source": [
    "s1"
   ]
  },
  {
   "cell_type": "code",
   "execution_count": null,
   "id": "de5eded3",
   "metadata": {
    "ExecuteTime": {
     "end_time": "2023-07-25T10:56:04.037977Z",
     "start_time": "2023-07-25T10:56:04.037977Z"
    }
   },
   "outputs": [],
   "source": [
    "#pop"
   ]
  },
  {
   "cell_type": "code",
   "execution_count": null,
   "id": "a7c2f0aa",
   "metadata": {
    "ExecuteTime": {
     "end_time": "2023-07-31T08:25:39.301132Z",
     "start_time": "2023-07-31T08:25:39.284974Z"
    }
   },
   "outputs": [],
   "source": [
    "s1.pop()"
   ]
  },
  {
   "cell_type": "code",
   "execution_count": null,
   "id": "1d9e2195",
   "metadata": {
    "ExecuteTime": {
     "end_time": "2023-07-31T08:25:49.824590Z",
     "start_time": "2023-07-31T08:25:49.814949Z"
    }
   },
   "outputs": [],
   "source": [
    "s1"
   ]
  },
  {
   "cell_type": "code",
   "execution_count": 76,
   "id": "df1c0c28",
   "metadata": {},
   "outputs": [],
   "source": [
    "# removing duplicates from set"
   ]
  },
  {
   "cell_type": "code",
   "execution_count": 77,
   "id": "0c286beb-c9e5-4e91-b6a1-f88bc4eb30a0",
   "metadata": {},
   "outputs": [
    {
     "data": {
      "text/plain": [
       "[10, 10, 24, 34, 21, 10, 34, 68, 95]"
      ]
     },
     "execution_count": 77,
     "metadata": {},
     "output_type": "execute_result"
    }
   ],
   "source": [
    "lst=[10,10,24,34,21,10,34,68,95]\n",
    "lst"
   ]
  },
  {
   "cell_type": "code",
   "execution_count": 84,
   "id": "f8db576d-f81f-4a15-8436-8b16f3978968",
   "metadata": {},
   "outputs": [
    {
     "data": {
      "text/plain": [
       "[34, 68, 10, 21, 24, 95]"
      ]
     },
     "execution_count": 84,
     "metadata": {},
     "output_type": "execute_result"
    }
   ],
   "source": [
    "l1=list(set(lst))  #to change the list to set to get remove the duplicate values\n",
    "l1"
   ]
  },
  {
   "cell_type": "code",
   "execution_count": 80,
   "id": "9fdd3968-5ec9-4f6b-9f3c-929db843ede5",
   "metadata": {},
   "outputs": [
    {
     "data": {
      "text/plain": [
       "(34, 68, 10, 21, 24, 95)"
      ]
     },
     "execution_count": 80,
     "metadata": {},
     "output_type": "execute_result"
    }
   ],
   "source": [
    "tuple(l1)"
   ]
  },
  {
   "cell_type": "code",
   "execution_count": null,
   "id": "ad7e1512-1f5f-4b1a-a3bd-6fe788e2eb56",
   "metadata": {},
   "outputs": [],
   "source": []
  }
 ],
 "metadata": {
  "_draft": {
   "nbviewer_url": "https://gist.github.com/c7e48d2b0f85e662ce272c77589a4f43"
  },
  "gist": {
   "data": {
    "description": "ExcelR/Python_Basics.ipynb",
    "public": true
   },
   "id": "c7e48d2b0f85e662ce272c77589a4f43"
  },
  "kernelspec": {
   "display_name": "Python 3 (ipykernel)",
   "language": "python",
   "name": "python3"
  },
  "language_info": {
   "codemirror_mode": {
    "name": "ipython",
    "version": 3
   },
   "file_extension": ".py",
   "mimetype": "text/x-python",
   "name": "python",
   "nbconvert_exporter": "python",
   "pygments_lexer": "ipython3",
   "version": "3.11.7"
  }
 },
 "nbformat": 4,
 "nbformat_minor": 5
}
