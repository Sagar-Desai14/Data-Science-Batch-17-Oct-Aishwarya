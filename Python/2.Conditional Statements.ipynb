{
 "cells": [
  {
   "cell_type": "markdown",
   "id": "c5ad61e8",
   "metadata": {},
   "source": [
    "# Conditional Statements\n",
    "- if\n",
    "- else\n",
    "- elif"
   ]
  },
  {
   "cell_type": "code",
   "execution_count": 7,
   "id": "85a3f694-b290-4325-ab10-1090700fd15f",
   "metadata": {},
   "outputs": [
    {
     "data": {
      "text/plain": [
       "True"
      ]
     },
     "execution_count": 7,
     "metadata": {},
     "output_type": "execute_result"
    }
   ],
   "source": [
    "a = 50\n",
    "b = 25\n",
    "\n",
    "a != b"
   ]
  },
  {
   "cell_type": "code",
   "execution_count": 11,
   "id": "0edae259",
   "metadata": {
    "ExecuteTime": {
     "end_time": "2023-07-31T09:15:06.004121Z",
     "start_time": "2023-07-31T09:15:05.983387Z"
    }
   },
   "outputs": [],
   "source": [
    "userid = 'abc123'\n",
    "\n",
    "if userid == 'abc1':\n",
    "    print('Log in successful')   "
   ]
  },
  {
   "cell_type": "code",
   "execution_count": 13,
   "id": "a2696156",
   "metadata": {
    "ExecuteTime": {
     "end_time": "2023-07-31T09:17:24.423664Z",
     "start_time": "2023-07-31T09:17:24.405767Z"
    }
   },
   "outputs": [
    {
     "name": "stdout",
     "output_type": "stream",
     "text": [
      "Try again\n"
     ]
    }
   ],
   "source": [
    "userid = 'abc1'\n",
    "\n",
    "if userid == 'abc123':\n",
    "    print('Log in successful')  \n",
    "else:\n",
    "    print('Try again')"
   ]
  },
  {
   "cell_type": "markdown",
   "id": "4a0c50b0-6379-4e47-b8fc-d9a01573009a",
   "metadata": {},
   "source": [
    "# User Input"
   ]
  },
  {
   "cell_type": "code",
   "execution_count": null,
   "id": "3056bbb4-44ad-4f1c-8756-56e7f44bb620",
   "metadata": {},
   "outputs": [],
   "source": [
    "age = input()"
   ]
  },
  {
   "cell_type": "code",
   "execution_count": null,
   "id": "ce6d73de-0636-4690-8561-b93d2db9d470",
   "metadata": {},
   "outputs": [],
   "source": [
    "print(age)\n",
    "print(type(age))"
   ]
  },
  {
   "cell_type": "code",
   "execution_count": null,
   "id": "6e2465cc-4dbc-4844-8ab6-800126a0785c",
   "metadata": {},
   "outputs": [],
   "source": [
    "#Typecasting\n",
    "\n",
    "age = int(input())\n",
    "type(age)"
   ]
  },
  {
   "cell_type": "code",
   "execution_count": null,
   "id": "64a8930d",
   "metadata": {
    "ExecuteTime": {
     "end_time": "2023-07-31T09:29:20.460082Z",
     "start_time": "2023-07-31T09:29:19.010820Z"
    }
   },
   "outputs": [],
   "source": [
    "#Check whether the number is positive/negative/Zero\n",
    "\n",
    "number = int(input('Enter any number: '))\n",
    "\n",
    "if number > 0:\n",
    "    print('Positive')\n",
    "elif number < 0:\n",
    "    print('Negative')\n",
    "else:\n",
    "    print('Zero')"
   ]
  },
  {
   "cell_type": "code",
   "execution_count": null,
   "id": "f21c4a2f",
   "metadata": {
    "ExecuteTime": {
     "end_time": "2023-07-31T06:36:24.325766Z",
     "start_time": "2023-07-31T06:36:24.311916Z"
    }
   },
   "outputs": [],
   "source": [
    "# Give grades based on percentages\n",
    "#A : marks >85\n",
    "#B : marks < 85 and >70\n",
    "#C : marks <70 and > 60\n",
    "#D \n"
   ]
  },
  {
   "cell_type": "code",
   "execution_count": null,
   "id": "7a8d2142",
   "metadata": {
    "ExecuteTime": {
     "end_time": "2023-08-01T08:16:03.036453Z",
     "start_time": "2023-08-01T08:15:58.807013Z"
    }
   },
   "outputs": [],
   "source": [
    "marks = int(input('Enter your marks: '))\n",
    "\n",
    "if marks >= 85:\n",
    "    print('A')\n",
    "elif (marks < 85 and marks >= 70):\n",
    "    print('B')\n",
    "elif (marks < 70 and marks >= 60):\n",
    "    print('C')\n",
    "else:\n",
    "    print('D')"
   ]
  },
  {
   "cell_type": "code",
   "execution_count": null,
   "id": "240f95d7",
   "metadata": {},
   "outputs": [],
   "source": []
  }
 ],
 "metadata": {
  "kernelspec": {
   "display_name": "Python 3 (ipykernel)",
   "language": "python",
   "name": "python3"
  },
  "language_info": {
   "codemirror_mode": {
    "name": "ipython",
    "version": 3
   },
   "file_extension": ".py",
   "mimetype": "text/x-python",
   "name": "python",
   "nbconvert_exporter": "python",
   "pygments_lexer": "ipython3",
   "version": "3.12.4"
  }
 },
 "nbformat": 4,
 "nbformat_minor": 5
}
